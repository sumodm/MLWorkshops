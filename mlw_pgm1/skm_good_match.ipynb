{
 "cells": [
  {
   "cell_type": "code",
   "execution_count": 1,
   "metadata": {
    "collapsed": true
   },
   "outputs": [],
   "source": [
    "from pgmpy.factors import TabularCPD"
   ]
  },
  {
   "cell_type": "code",
   "execution_count": 2,
   "metadata": {
    "collapsed": false
   },
   "outputs": [],
   "source": [
    "from pgmpy.models import BayesianModel"
   ]
  },
  {
   "cell_type": "code",
   "execution_count": 4,
   "metadata": {
    "collapsed": true
   },
   "outputs": [],
   "source": [
    "model = BayesianModel()"
   ]
  },
  {
   "cell_type": "code",
   "execution_count": 5,
   "metadata": {
    "collapsed": false
   },
   "outputs": [],
   "source": [
    "model.add_edge('F','H')"
   ]
  },
  {
   "cell_type": "code",
   "execution_count": 6,
   "metadata": {
    "collapsed": true
   },
   "outputs": [],
   "source": [
    "model.add_edge('P','H')"
   ]
  },
  {
   "cell_type": "code",
   "execution_count": 8,
   "metadata": {
    "collapsed": true
   },
   "outputs": [],
   "source": [
    "model.add_edge('P','R')"
   ]
  },
  {
   "cell_type": "code",
   "execution_count": 10,
   "metadata": {
    "collapsed": true
   },
   "outputs": [],
   "source": [
    "model.add_edge('W','R')"
   ]
  },
  {
   "cell_type": "code",
   "execution_count": 11,
   "metadata": {
    "collapsed": true
   },
   "outputs": [],
   "source": [
    "model.add_edge('A','G')"
   ]
  },
  {
   "cell_type": "code",
   "execution_count": 12,
   "metadata": {
    "collapsed": true
   },
   "outputs": [],
   "source": [
    "model.add_edge('H','G')"
   ]
  },
  {
   "cell_type": "code",
   "execution_count": 13,
   "metadata": {
    "collapsed": true
   },
   "outputs": [],
   "source": [
    "model.add_edge('R','M')"
   ]
  },
  {
   "cell_type": "code",
   "execution_count": 14,
   "metadata": {
    "collapsed": true
   },
   "outputs": [],
   "source": [
    "model.add_edge('G','M')"
   ]
  },
  {
   "cell_type": "code",
   "execution_count": 15,
   "metadata": {
    "collapsed": true
   },
   "outputs": [],
   "source": [
    "model.add_edge('C','M')"
   ]
  },
  {
   "cell_type": "code",
   "execution_count": 16,
   "metadata": {
    "collapsed": false
   },
   "outputs": [
    {
     "data": {
      "text/plain": [
       "['A', 'C', 'G', 'F', 'H', 'M', 'P', 'R', 'W']"
      ]
     },
     "execution_count": 16,
     "metadata": {},
     "output_type": "execute_result"
    }
   ],
   "source": [
    "model.nodes()"
   ]
  },
  {
   "cell_type": "code",
   "execution_count": 17,
   "metadata": {
    "collapsed": false
   },
   "outputs": [
    {
     "data": {
      "text/plain": [
       "[('A', 'G'),\n",
       " ('C', 'M'),\n",
       " ('G', 'M'),\n",
       " ('F', 'H'),\n",
       " ('H', 'G'),\n",
       " ('P', 'H'),\n",
       " ('P', 'R'),\n",
       " ('R', 'M'),\n",
       " ('W', 'R')]"
      ]
     },
     "execution_count": 17,
     "metadata": {},
     "output_type": "execute_result"
    }
   ],
   "source": [
    "model.edges()"
   ]
  },
  {
   "cell_type": "code",
   "execution_count": 19,
   "metadata": {
    "collapsed": true
   },
   "outputs": [],
   "source": [
    "cpd_fair= TabularCPD('F',2,[[0.3],[0.7]])"
   ]
  },
  {
   "cell_type": "code",
   "execution_count": 20,
   "metadata": {
    "collapsed": true
   },
   "outputs": [],
   "source": [
    "cpd_pers= TabularCPD('P',2,[[0.4],[0.6]])"
   ]
  },
  {
   "cell_type": "code",
   "execution_count": 21,
   "metadata": {
    "collapsed": true
   },
   "outputs": [],
   "source": [
    "cpd_wealth= TabularCPD('W',2,[[0.5],[0.5]])"
   ]
  },
  {
   "cell_type": "code",
   "execution_count": 22,
   "metadata": {
    "collapsed": true
   },
   "outputs": [],
   "source": [
    "cpd_alc= TabularCPD('A',2,[[0.8],[0.2]])"
   ]
  },
  {
   "cell_type": "code",
   "execution_count": 23,
   "metadata": {
    "collapsed": true
   },
   "outputs": [],
   "source": [
    "cpd_care= TabularCPD('C',2,[[0.2],[0.8]])"
   ]
  },
  {
   "cell_type": "code",
   "execution_count": 159,
   "metadata": {
    "collapsed": true
   },
   "outputs": [],
   "source": [
    "cpd_handsome = TabularCPD('H',2,[[0.7,0.6,0.4,0.3],[0.3,0.4,0.6,0.7]],evidence=['F','P'],evidence_card=[2,2])"
   ]
  },
  {
   "cell_type": "code",
   "execution_count": 167,
   "metadata": {
    "collapsed": true
   },
   "outputs": [],
   "source": [
    "cpd_respect = TabularCPD('R',2,[[0.8,0.7,0.4,0.2],[0.2,0.3,0.6,0.8]],evidence=['W','P'],evidence_card=[2,2])"
   ]
  },
  {
   "cell_type": "code",
   "execution_count": 161,
   "metadata": {
    "collapsed": false
   },
   "outputs": [],
   "source": [
    "cpd_good_per = TabularCPD('G',2,[[0.3,0.1,.9,0.8],[0.7,0.9,0.1,0.2]],evidence=['H','A'],evidence_card=[2,2])"
   ]
  },
  {
   "cell_type": "code",
   "execution_count": 162,
   "metadata": {
    "collapsed": false
   },
   "outputs": [],
   "source": [
    "cpd_marriage = TabularCPD('M',2,[[0.9,0.8,.8,0.7,0.6,0.3,0.4,0.1],[0.1,0.2,0.2,0.3,0.4,0.7,0.6,0.9]],evidence=['C','R','G'],evidence_card=[2,2,2])"
   ]
  },
  {
   "cell_type": "code",
   "execution_count": 163,
   "metadata": {
    "collapsed": false
   },
   "outputs": [
    {
     "data": {
      "text/html": [
       "<table><caption>TabularCPD for <b>M</b></caption><tr><td><b>G</b></td><td colspan=4>G_0</td><td colspan=4>G_1</td></tr><tr><td><b>R</b></td><td colspan=2>R_0</td><td colspan=2>R_1</td><td colspan=2>R_0</td><td colspan=2>R_1</td></tr><tr><td><b>C</b></td><td colspan=1>C_0</td><td colspan=1>C_1</td><td colspan=1>C_0</td><td colspan=1>C_1</td><td colspan=1>C_0</td><td colspan=1>C_1</td><td colspan=1>C_0</td><td colspan=1>C_1</td></tr><tr><td><b>M_0</b></td><td>0.9000</td><td>0.8000</td><td>0.8000</td><td>0.7000</td><td>0.6000</td><td>0.3000</td><td>0.4000</td><td>0.1000</td></tr><tr><td><b>M_1</b></td><td>0.1000</td><td>0.2000</td><td>0.2000</td><td>0.3000</td><td>0.4000</td><td>0.7000</td><td>0.6000</td><td>0.9000</td></tr></table>"
      ],
      "text/plain": [
       "<TabularCPD representing P(M:2 | C:2, R:2, G:2) at 0x7f56741e4a50>"
      ]
     },
     "execution_count": 163,
     "metadata": {},
     "output_type": "execute_result"
    }
   ],
   "source": [
    "cpd_marriage"
   ]
  },
  {
   "cell_type": "code",
   "execution_count": 168,
   "metadata": {
    "collapsed": false
   },
   "outputs": [
    {
     "name": "stderr",
     "output_type": "stream",
     "text": [
      "WARNING:root:Replacing existing CPD for A\n",
      "WARNING:root:Replacing existing CPD for C\n",
      "WARNING:root:Replacing existing CPD for F\n",
      "WARNING:root:Replacing existing CPD for G\n",
      "WARNING:root:Replacing existing CPD for H\n",
      "WARNING:root:Replacing existing CPD for P\n",
      "WARNING:root:Replacing existing CPD for R\n",
      "WARNING:root:Replacing existing CPD for W\n",
      "WARNING:root:Replacing existing CPD for M\n"
     ]
    }
   ],
   "source": [
    "model.add_cpds(cpd_alc,cpd_care,cpd_fair,cpd_good_per,cpd_handsome,cpd_pers,cpd_respect,cpd_wealth,cpd_marriage)"
   ]
  },
  {
   "cell_type": "code",
   "execution_count": 169,
   "metadata": {
    "collapsed": false
   },
   "outputs": [
    {
     "data": {
      "text/plain": [
       "[<TabularCPD representing P(A:2) at 0x7f5674347e50>,\n",
       " <TabularCPD representing P(C:2) at 0x7f5674347a50>,\n",
       " <TabularCPD representing P(F:2) at 0x7f5674347e10>,\n",
       " <TabularCPD representing P(M:2 | C:2, R:2, G:2) at 0x7f56741e4a50>,\n",
       " <TabularCPD representing P(H:2 | F:2, P:2) at 0x7f56741e4710>,\n",
       " <TabularCPD representing P(P:2) at 0x7f5674347410>,\n",
       " <TabularCPD representing P(R:2 | W:2, P:2) at 0x7f56741e4e10>,\n",
       " <TabularCPD representing P(W:2) at 0x7f5674347b90>,\n",
       " <TabularCPD representing P(G:2 | H:2, A:2) at 0x7f56741e4790>]"
      ]
     },
     "execution_count": 169,
     "metadata": {},
     "output_type": "execute_result"
    }
   ],
   "source": [
    "model.get_cpds()"
   ]
  },
  {
   "cell_type": "code",
   "execution_count": 170,
   "metadata": {
    "collapsed": false
   },
   "outputs": [
    {
     "data": {
      "text/plain": [
       "True"
      ]
     },
     "execution_count": 170,
     "metadata": {},
     "output_type": "execute_result"
    }
   ],
   "source": [
    "model.check_model()"
   ]
  },
  {
   "cell_type": "code",
   "execution_count": 171,
   "metadata": {
    "collapsed": true
   },
   "outputs": [],
   "source": [
    "from pgmpy.inference import VariableElimination"
   ]
  },
  {
   "cell_type": "code",
   "execution_count": 172,
   "metadata": {
    "collapsed": false
   },
   "outputs": [],
   "source": [
    "prob_like = VariableElimination(model)"
   ]
  },
  {
   "cell_type": "code",
   "execution_count": 189,
   "metadata": {
    "collapsed": false
   },
   "outputs": [
    {
     "data": {
      "text/plain": [
       "0.81818181818181812"
      ]
     },
     "execution_count": 189,
     "metadata": {},
     "output_type": "execute_result"
    }
   ],
   "source": [
    "prob_like.max_marginal(variables=['M'],evidence={'W':0, 'P':1, 'F':0, 'A':0, 'C':1})"
   ]
  },
  {
   "cell_type": "code",
   "execution_count": 188,
   "metadata": {
    "collapsed": false
   },
   "outputs": [
    {
     "data": {
      "text/plain": [
       "{'M': 1}"
      ]
     },
     "execution_count": 188,
     "metadata": {},
     "output_type": "execute_result"
    }
   ],
   "source": [
    "prob_like.map_query(variables=['M'],evidence={'W':0, 'P':1, 'F':0, 'A':0, 'C':1})"
   ]
  },
  {
   "cell_type": "code",
   "execution_count": 177,
   "metadata": {
    "collapsed": false
   },
   "outputs": [
    {
     "data": {
      "text/plain": [
       "0.67123287671232867"
      ]
     },
     "execution_count": 177,
     "metadata": {},
     "output_type": "execute_result"
    }
   ],
   "source": [
    "prob_like.max_marginal(variables=['M'],evidence={'P':0, 'F':1})"
   ]
  },
  {
   "cell_type": "code",
   "execution_count": 178,
   "metadata": {
    "collapsed": false
   },
   "outputs": [
    {
     "data": {
      "text/plain": [
       "{'M': 1}"
      ]
     },
     "execution_count": 178,
     "metadata": {},
     "output_type": "execute_result"
    }
   ],
   "source": [
    "prob_like.map_query(variables=['M'],evidence={'P':1, 'F':0})"
   ]
  },
  {
   "cell_type": "code",
   "execution_count": 158,
   "metadata": {
    "collapsed": false
   },
   "outputs": [
    {
     "data": {
      "text/html": [
       "<table><caption>TabularCPD for <b>M</b></caption><tr><td><b>C</b></td><td colspan=4>C_0</td><td colspan=4>C_1</td></tr><tr><td><b>R</b></td><td colspan=2>R_0</td><td colspan=2>R_1</td><td colspan=2>R_0</td><td colspan=2>R_1</td></tr><tr><td><b>G</b></td><td colspan=1>G_0</td><td colspan=1>G_1</td><td colspan=1>G_0</td><td colspan=1>G_1</td><td colspan=1>G_0</td><td colspan=1>G_1</td><td colspan=1>G_0</td><td colspan=1>G_1</td></tr><tr><td><b>M_0</b></td><td>0.9000</td><td>0.8000</td><td>0.8000</td><td>0.7000</td><td>0.6000</td><td>0.3000</td><td>0.4000</td><td>0.1000</td></tr><tr><td><b>M_1</b></td><td>0.1000</td><td>0.2000</td><td>0.2000</td><td>0.3000</td><td>0.4000</td><td>0.7000</td><td>0.6000</td><td>0.9000</td></tr></table>"
      ],
      "text/plain": [
       "<TabularCPD representing P(M:2 | G:2, R:2, C:2) at 0x7f5674296510>"
      ]
     },
     "execution_count": 158,
     "metadata": {},
     "output_type": "execute_result"
    }
   ],
   "source": [
    "cpd_marriage"
   ]
  }
 ],
 "metadata": {
  "kernelspec": {
   "display_name": "Python 2",
   "language": "python",
   "name": "python2"
  },
  "language_info": {
   "codemirror_mode": {
    "name": "ipython",
    "version": 2
   },
   "file_extension": ".py",
   "mimetype": "text/x-python",
   "name": "python",
   "nbconvert_exporter": "python",
   "pygments_lexer": "ipython2",
   "version": "2.7.6"
  }
 },
 "nbformat": 4,
 "nbformat_minor": 0
}
