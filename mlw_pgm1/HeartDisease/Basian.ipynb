{
 "metadata": {
  "name": ""
 },
 "nbformat": 3,
 "nbformat_minor": 0,
 "worksheets": [
  {
   "cells": [
    {
     "cell_type": "code",
     "collapsed": false,
     "input": [
      "import pgmpy"
     ],
     "language": "python",
     "metadata": {},
     "outputs": [],
     "prompt_number": 1
    },
    {
     "cell_type": "code",
     "collapsed": false,
     "input": [
      "1+2"
     ],
     "language": "python",
     "metadata": {},
     "outputs": [
      {
       "metadata": {},
       "output_type": "pyout",
       "prompt_number": 2,
       "text": [
        "3"
       ]
      }
     ],
     "prompt_number": 2
    },
    {
     "cell_type": "code",
     "collapsed": false,
     "input": [
      "from pgmpy.factors import TabularCPD\n",
      "quality = TabularCPD(variable = \"Quality\", variable_card=3,values=[[0.5],[0.6],[2]])"
     ],
     "language": "python",
     "metadata": {},
     "outputs": [],
     "prompt_number": 6
    },
    {
     "cell_type": "code",
     "collapsed": false,
     "input": [
      "quality"
     ],
     "language": "python",
     "metadata": {},
     "outputs": [
      {
       "html": [
        "<table><caption>TabularCPD for <b>Quality</b></caption><tr><td><b>Quality_0</b></td><td>0.5000</td></tr><tr><td><b>Quality_1</b></td><td>0.6000</td></tr><tr><td><b>Quality_2</b></td><td>2.0000</td></tr></table>"
       ],
       "metadata": {},
       "output_type": "pyout",
       "prompt_number": 7,
       "text": [
        "<TabularCPD representing P(Quality:3) at 0x7eff01a6d190>"
       ]
      }
     ],
     "prompt_number": 7
    },
    {
     "cell_type": "code",
     "collapsed": false,
     "input": [
      "from pgmpy.models import BayesianModel"
     ],
     "language": "python",
     "metadata": {},
     "outputs": [],
     "prompt_number": 10
    },
    {
     "cell_type": "code",
     "collapsed": false,
     "input": [
      "model1 =BayesianModel()"
     ],
     "language": "python",
     "metadata": {},
     "outputs": [],
     "prompt_number": 15
    },
    {
     "cell_type": "code",
     "collapsed": false,
     "input": [
      "model1.add_edge('r','j')"
     ],
     "language": "python",
     "metadata": {},
     "outputs": [],
     "prompt_number": 16
    },
    {
     "cell_type": "code",
     "collapsed": false,
     "input": [
      "model1.add_edge('a','j')"
     ],
     "language": "python",
     "metadata": {},
     "outputs": [],
     "prompt_number": 17
    },
    {
     "cell_type": "code",
     "collapsed": false,
     "input": [
      "model1.add_edge('s','l')"
     ],
     "language": "python",
     "metadata": {},
     "outputs": [],
     "prompt_number": 18
    },
    {
     "cell_type": "code",
     "collapsed": false,
     "input": [
      "model1.add_edge('j','l')"
     ],
     "language": "python",
     "metadata": {},
     "outputs": [],
     "prompt_number": 19
    },
    {
     "cell_type": "code",
     "collapsed": false,
     "input": [
      "model1.add_edge('j','q')"
     ],
     "language": "python",
     "metadata": {},
     "outputs": [],
     "prompt_number": 20
    },
    {
     "cell_type": "code",
     "collapsed": false,
     "input": [
      "model1.nodes()"
     ],
     "language": "python",
     "metadata": {},
     "outputs": [
      {
       "metadata": {},
       "output_type": "pyout",
       "prompt_number": 22,
       "text": [
        "['a', 'j', 'l', 'q', 's', 'r']"
       ]
      }
     ],
     "prompt_number": 22
    },
    {
     "cell_type": "code",
     "collapsed": false,
     "input": [
      "model1.edges()"
     ],
     "language": "python",
     "metadata": {},
     "outputs": [
      {
       "metadata": {},
       "output_type": "pyout",
       "prompt_number": 24,
       "text": [
        "[('a', 'j'), ('j', 'q'), ('j', 'l'), ('s', 'l'), ('r', 'j')]"
       ]
      }
     ],
     "prompt_number": 24
    },
    {
     "cell_type": "code",
     "collapsed": false,
     "input": [
      "cpd_rain = TabularCPD('r',2,[[0.4],[0.6]])"
     ],
     "language": "python",
     "metadata": {},
     "outputs": [],
     "prompt_number": 25
    },
    {
     "cell_type": "code",
     "collapsed": false,
     "input": [
      "cpd_rain = TabularCPD('a',2,[[0.2],[0.8]])"
     ],
     "language": "python",
     "metadata": {},
     "outputs": [],
     "prompt_number": 26
    },
    {
     "cell_type": "code",
     "collapsed": false,
     "input": [
      "cpd_rain = TabularCPD('r',2,[[0.4],[0.6]])"
     ],
     "language": "python",
     "metadata": {},
     "outputs": [],
     "prompt_number": 27
    },
    {
     "cell_type": "code",
     "collapsed": false,
     "input": [
      "cpd_rain"
     ],
     "language": "python",
     "metadata": {},
     "outputs": [
      {
       "html": [
        "<table><caption>TabularCPD for <b>r</b></caption><tr><td><b>r_0</b></td><td>0.4000</td></tr><tr><td><b>r_1</b></td><td>0.6000</td></tr></table>"
       ],
       "metadata": {},
       "output_type": "pyout",
       "prompt_number": 30,
       "text": [
        "<TabularCPD representing P(r:2) at 0x7eff01a6de90>"
       ]
      }
     ],
     "prompt_number": 30
    },
    {
     "cell_type": "code",
     "collapsed": false,
     "input": [
      "cpd_accident = TabularCPD('a',2,[[0.2],[0.8]])"
     ],
     "language": "python",
     "metadata": {},
     "outputs": [],
     "prompt_number": 31
    },
    {
     "cell_type": "code",
     "collapsed": false,
     "input": [
      "cpd_jam = TabularCPD('j',2,[[0.9,0.6,0.7,0.1],[0.1,0.4,0.3,0.90]],evidence =['r','a'],evidence_card=[2,2])"
     ],
     "language": "python",
     "metadata": {},
     "outputs": [],
     "prompt_number": 34
    },
    {
     "cell_type": "code",
     "collapsed": false,
     "input": [
      "cpd_jam"
     ],
     "language": "python",
     "metadata": {},
     "outputs": [
      {
       "html": [
        "<table><caption>TabularCPD for <b>j</b></caption><tr><td><b>a</b></td><td colspan=2>a_0</td><td colspan=2>a_1</td></tr><tr><td><b>r</b></td><td colspan=1>r_0</td><td colspan=1>r_1</td><td colspan=1>r_0</td><td colspan=1>r_1</td></tr><tr><td><b>j_0</b></td><td>0.9000</td><td>0.6000</td><td>0.7000</td><td>0.1000</td></tr><tr><td><b>j_1</b></td><td>0.1000</td><td>0.4000</td><td>0.3000</td><td>0.9000</td></tr></table>"
       ],
       "metadata": {},
       "output_type": "pyout",
       "prompt_number": 35,
       "text": [
        "<TabularCPD representing P(j:2 | r:2, a:2) at 0x7eff01997bd0>"
       ]
      }
     ],
     "prompt_number": 35
    },
    {
     "cell_type": "code",
     "collapsed": false,
     "input": [
      "model1.add_cpds(cpd_rain,cpd_accident,cpd_jam)"
     ],
     "language": "python",
     "metadata": {},
     "outputs": [],
     "prompt_number": 36
    },
    {
     "cell_type": "code",
     "collapsed": false,
     "input": [
      "cpd_long_queue = TabularCPD('q',2,[[0.9,0.2],[0.1,0.8]], evidence=['j'],evidence_card=[2])"
     ],
     "language": "python",
     "metadata": {},
     "outputs": [],
     "prompt_number": 41
    },
    {
     "cell_type": "code",
     "collapsed": false,
     "input": [
      "model1.add_cpds(cpd_long_queue)"
     ],
     "language": "python",
     "metadata": {},
     "outputs": [
      {
       "output_type": "stream",
       "stream": "stderr",
       "text": [
        "WARNING:root:Replacing existing CPD for q\n"
       ]
      }
     ],
     "prompt_number": 43
    },
    {
     "cell_type": "code",
     "collapsed": false,
     "input": [
      "cpd_waking =TabularCPD('s',2,[[0.6],[0.4]])"
     ],
     "language": "python",
     "metadata": {},
     "outputs": [],
     "prompt_number": 39
    },
    {
     "cell_type": "code",
     "collapsed": false,
     "input": [
      "cpd_late = TabularCPD('l',2,[[0.9,0.45,0.8,0.1],[0.1,0.55,0.2,0.9]],evidence= ['s','j'],evidence_card=[2,2])"
     ],
     "language": "python",
     "metadata": {},
     "outputs": [],
     "prompt_number": 40
    },
    {
     "cell_type": "code",
     "collapsed": false,
     "input": [
      "model1.add_cpds(cpd_waking,cpd_late)"
     ],
     "language": "python",
     "metadata": {},
     "outputs": [
      {
       "output_type": "stream",
       "stream": "stderr",
       "text": [
        "WARNING:root:Replacing existing CPD for l\n"
       ]
      }
     ],
     "prompt_number": 44
    },
    {
     "cell_type": "code",
     "collapsed": false,
     "input": [
      "model1.get_cpds()\n"
     ],
     "language": "python",
     "metadata": {},
     "outputs": [
      {
       "metadata": {},
       "output_type": "pyout",
       "prompt_number": 45,
       "text": [
        "[<TabularCPD representing P(r:2) at 0x7eff01a6de90>,\n",
        " <TabularCPD representing P(a:2) at 0x7eff01a6db10>,\n",
        " <TabularCPD representing P(j:2 | r:2, a:2) at 0x7eff01997bd0>,\n",
        " <TabularCPD representing P(l:2 | s:2, j:2) at 0x7eff01997550>,\n",
        " <TabularCPD representing P(q:2 | j:2) at 0x7eff01997790>,\n",
        " <TabularCPD representing P(s:2) at 0x7eff01997490>]"
       ]
      }
     ],
     "prompt_number": 45
    },
    {
     "cell_type": "code",
     "collapsed": false,
     "input": [
      "cpd_late"
     ],
     "language": "python",
     "metadata": {},
     "outputs": [
      {
       "html": [
        "<table><caption>TabularCPD for <b>l</b></caption><tr><td><b>j</b></td><td colspan=2>j_0</td><td colspan=2>j_1</td></tr><tr><td><b>s</b></td><td colspan=1>s_0</td><td colspan=1>s_1</td><td colspan=1>s_0</td><td colspan=1>s_1</td></tr><tr><td><b>l_0</b></td><td>0.9000</td><td>0.4500</td><td>0.8000</td><td>0.1000</td></tr><tr><td><b>l_1</b></td><td>0.1000</td><td>0.5500</td><td>0.2000</td><td>0.9000</td></tr></table>"
       ],
       "metadata": {},
       "output_type": "pyout",
       "prompt_number": 46,
       "text": [
        "<TabularCPD representing P(l:2 | s:2, j:2) at 0x7eff01997550>"
       ]
      }
     ],
     "prompt_number": 46
    },
    {
     "cell_type": "code",
     "collapsed": false,
     "input": [
      "model1.check_model()\n"
     ],
     "language": "python",
     "metadata": {},
     "outputs": [
      {
       "ename": "NameError",
       "evalue": "name 'model1' is not defined",
       "output_type": "pyerr",
       "traceback": [
        "\u001b[0;31m---------------------------------------------------------------------------\u001b[0m\n\u001b[0;31mNameError\u001b[0m                                 Traceback (most recent call last)",
        "\u001b[0;32m<ipython-input-98-56bbb0ccefdb>\u001b[0m in \u001b[0;36m<module>\u001b[0;34m()\u001b[0m\n\u001b[0;32m----> 1\u001b[0;31m \u001b[0mmodel1\u001b[0m\u001b[0;34m.\u001b[0m\u001b[0mcheck_model\u001b[0m\u001b[0;34m(\u001b[0m\u001b[0;34m)\u001b[0m\u001b[0;34m\u001b[0m\u001b[0m\n\u001b[0m",
        "\u001b[0;31mNameError\u001b[0m: name 'model1' is not defined"
       ]
      }
     ],
     "prompt_number": 98
    },
    {
     "cell_type": "code",
     "collapsed": false,
     "input": [
      "from pgmpy.inference import VariableElimination"
     ],
     "language": "python",
     "metadata": {},
     "outputs": [],
     "prompt_number": 49
    },
    {
     "cell_type": "code",
     "collapsed": false,
     "input": [
      "traffic_infer = VariableElimination(model1)"
     ],
     "language": "python",
     "metadata": {},
     "outputs": [],
     "prompt_number": 50
    },
    {
     "cell_type": "code",
     "collapsed": false,
     "input": [
      "model = model1"
     ],
     "language": "python",
     "metadata": {},
     "outputs": [],
     "prompt_number": 51
    },
    {
     "cell_type": "code",
     "collapsed": false,
     "input": [
      "model.get_cpds()"
     ],
     "language": "python",
     "metadata": {},
     "outputs": [
      {
       "metadata": {},
       "output_type": "pyout",
       "prompt_number": 52,
       "text": [
        "[<TabularCPD representing P(r:2) at 0x7eff01a6de90>,\n",
        " <TabularCPD representing P(a:2) at 0x7eff01a6db10>,\n",
        " <TabularCPD representing P(j:2 | r:2, a:2) at 0x7eff01997bd0>,\n",
        " <TabularCPD representing P(l:2 | s:2, j:2) at 0x7eff01997550>,\n",
        " <TabularCPD representing P(q:2 | j:2) at 0x7eff01997790>,\n",
        " <TabularCPD representing P(s:2) at 0x7eff01997490>]"
       ]
      }
     ],
     "prompt_number": 52
    },
    {
     "cell_type": "code",
     "collapsed": false,
     "input": [
      "traffic_infer.query('l',evidence={'r':1})"
     ],
     "language": "python",
     "metadata": {},
     "outputs": [
      {
       "metadata": {},
       "output_type": "pyout",
       "prompt_number": 53,
       "text": [
        "{'l': <Factor representing phi(l:2) at 0x7eff019af810>}"
       ]
      }
     ],
     "prompt_number": 53
    },
    {
     "cell_type": "code",
     "collapsed": false,
     "input": [
      "traffic_infer.max_marginal('l')"
     ],
     "language": "python",
     "metadata": {},
     "outputs": [
      {
       "metadata": {},
       "output_type": "pyout",
       "prompt_number": 54,
       "text": [
        "0.5714285714285714"
       ]
      }
     ],
     "prompt_number": 54
    },
    {
     "cell_type": "code",
     "collapsed": false,
     "input": [
      "cpd_accident"
     ],
     "language": "python",
     "metadata": {},
     "outputs": [
      {
       "html": [
        "<table><caption>TabularCPD for <b>a</b></caption><tr><td><b>a_0</b></td><td>0.2000</td></tr><tr><td><b>a_1</b></td><td>0.8000</td></tr></table>"
       ],
       "metadata": {},
       "output_type": "pyout",
       "prompt_number": 55,
       "text": [
        "<TabularCPD representing P(a:2) at 0x7eff01a6db10>"
       ]
      }
     ],
     "prompt_number": 55
    },
    {
     "cell_type": "code",
     "collapsed": false,
     "input": [
      "cpd_late"
     ],
     "language": "python",
     "metadata": {},
     "outputs": [
      {
       "html": [
        "<table><caption>TabularCPD for <b>l</b></caption><tr><td><b>j</b></td><td colspan=2>j_0</td><td colspan=2>j_1</td></tr><tr><td><b>s</b></td><td colspan=1>s_0</td><td colspan=1>s_1</td><td colspan=1>s_0</td><td colspan=1>s_1</td></tr><tr><td><b>l_0</b></td><td>0.9000</td><td>0.4500</td><td>0.8000</td><td>0.1000</td></tr><tr><td><b>l_1</b></td><td>0.1000</td><td>0.5500</td><td>0.2000</td><td>0.9000</td></tr></table>"
       ],
       "metadata": {},
       "output_type": "pyout",
       "prompt_number": 56,
       "text": [
        "<TabularCPD representing P(l:2 | s:2, j:2) at 0x7eff01997550>"
       ]
      }
     ],
     "prompt_number": 56
    },
    {
     "cell_type": "code",
     "collapsed": false,
     "input": [
      "traffic_infer.max_marginal('l')\n"
     ],
     "language": "python",
     "metadata": {},
     "outputs": [
      {
       "metadata": {},
       "output_type": "pyout",
       "prompt_number": 57,
       "text": [
        "0.5714285714285714"
       ]
      }
     ],
     "prompt_number": 57
    },
    {
     "cell_type": "code",
     "collapsed": false,
     "input": [
      "1.75/(2.25+1.75)"
     ],
     "language": "python",
     "metadata": {},
     "outputs": [
      {
       "metadata": {},
       "output_type": "pyout",
       "prompt_number": 58,
       "text": [
        "0.4375"
       ]
      }
     ],
     "prompt_number": 58
    },
    {
     "cell_type": "code",
     "collapsed": false,
     "input": [
      "traffic_infer.cardinality?"
     ],
     "language": "python",
     "metadata": {},
     "outputs": [],
     "prompt_number": 101
    },
    {
     "cell_type": "code",
     "collapsed": false,
     "input": [
      "traffic_infer.max_marginal(variables='q',evidence={'j':1})"
     ],
     "language": "python",
     "metadata": {},
     "outputs": [
      {
       "metadata": {},
       "output_type": "pyout",
       "prompt_number": 109,
       "text": [
        "0.80000000000000004"
       ]
      }
     ],
     "prompt_number": 109
    },
    {
     "cell_type": "code",
     "collapsed": false,
     "input": [
      "cpd_long_queue"
     ],
     "language": "python",
     "metadata": {},
     "outputs": [
      {
       "html": [
        "<table><caption>TabularCPD for <b>q</b></caption><tr><td><b>j</b></td><td colspan=1>j_0</td><td colspan=1>j_1</td></tr><tr><td><b>q_0</b></td><td>0.9000</td><td>0.2000</td></tr><tr><td><b>q_1</b></td><td>0.1000</td><td>0.8000</td></tr></table>"
       ],
       "metadata": {},
       "output_type": "pyout",
       "prompt_number": 110,
       "text": [
        "<TabularCPD representing P(q:2 | j:2) at 0x7eff01997790>"
       ]
      }
     ],
     "prompt_number": 110
    },
    {
     "cell_type": "code",
     "collapsed": false,
     "input": [
      "traffic_infer.max_marginal(variables='r',evidence={'l':1})"
     ],
     "language": "python",
     "metadata": {},
     "outputs": [
      {
       "metadata": {},
       "output_type": "pyout",
       "prompt_number": 111,
       "text": [
        "0.73720136518771329"
       ]
      }
     ],
     "prompt_number": 111
    },
    {
     "cell_type": "code",
     "collapsed": false,
     "input": [
      "from pgmpy.models import BayesianModel\n",
      "heart = BayesianModel()"
     ],
     "language": "python",
     "metadata": {},
     "outputs": [],
     "prompt_number": 2
    },
    {
     "cell_type": "code",
     "collapsed": false,
     "input": [
      "heart.add_edge('diaFH','Diab')"
     ],
     "language": "python",
     "metadata": {},
     "outputs": [],
     "prompt_number": 3
    },
    {
     "cell_type": "code",
     "collapsed": false,
     "input": [
      "heart.add_edge('diet','Diab')"
     ],
     "language": "python",
     "metadata": {},
     "outputs": [],
     "prompt_number": 4
    },
    {
     "cell_type": "code",
     "collapsed": false,
     "input": [
      "heart.add_edge('Gender','HBC')"
     ],
     "language": "python",
     "metadata": {},
     "outputs": [],
     "prompt_number": 5
    },
    {
     "cell_type": "code",
     "collapsed": false,
     "input": [
      "heart.add_edge('Obese','HBC')"
     ],
     "language": "python",
     "metadata": {},
     "outputs": [],
     "prompt_number": 6
    },
    {
     "cell_type": "code",
     "collapsed": false,
     "input": [
      "heart.add_edge('obeseFH','Diab')"
     ],
     "language": "python",
     "metadata": {},
     "outputs": [],
     "prompt_number": 7
    },
    {
     "cell_type": "code",
     "collapsed": false,
     "input": [
      "heart.add_edge('diet','Obese')"
     ],
     "language": "python",
     "metadata": {},
     "outputs": [],
     "prompt_number": 8
    },
    {
     "cell_type": "code",
     "collapsed": false,
     "input": [
      "heart.add_edge('phyInact','Obese')"
     ],
     "language": "python",
     "metadata": {},
     "outputs": [],
     "prompt_number": 9
    },
    {
     "cell_type": "code",
     "collapsed": false,
     "input": [
      "heart.add_edge('Age','HBP')"
     ],
     "language": "python",
     "metadata": {},
     "outputs": [],
     "prompt_number": 10
    },
    {
     "cell_type": "code",
     "collapsed": false,
     "input": [
      "heart.add_edge('Smoking','HBP')"
     ],
     "language": "python",
     "metadata": {},
     "outputs": [],
     "prompt_number": 11
    },
    {
     "cell_type": "code",
     "collapsed": false,
     "input": [
      "heart.add_edge('Obesity','HBP')"
     ],
     "language": "python",
     "metadata": {},
     "outputs": [],
     "prompt_number": 12
    },
    {
     "cell_type": "code",
     "collapsed": false,
     "input": [
      "heart.remove_edge('Obesity','HBP')"
     ],
     "language": "python",
     "metadata": {},
     "outputs": [
      {
       "ename": "NetworkXError",
       "evalue": "The edge Obesity-HBP not in graph.",
       "output_type": "pyerr",
       "traceback": [
        "\u001b[0;31m---------------------------------------------------------------------------\u001b[0m\n\u001b[0;31mNetworkXError\u001b[0m                             Traceback (most recent call last)",
        "\u001b[0;32m<ipython-input-15-049fcc517b1d>\u001b[0m in \u001b[0;36m<module>\u001b[0;34m()\u001b[0m\n\u001b[0;32m----> 1\u001b[0;31m \u001b[0mheart\u001b[0m\u001b[0;34m.\u001b[0m\u001b[0mremove_edge\u001b[0m\u001b[0;34m(\u001b[0m\u001b[0;34m'Obesity'\u001b[0m\u001b[0;34m,\u001b[0m\u001b[0;34m'HBP'\u001b[0m\u001b[0;34m)\u001b[0m\u001b[0;34m\u001b[0m\u001b[0m\n\u001b[0m",
        "\u001b[0;32m/usr/local/lib/python2.7/dist-packages/networkx/classes/digraph.pyc\u001b[0m in \u001b[0;36mremove_edge\u001b[0;34m(self, u, v)\u001b[0m\n\u001b[1;32m    689\u001b[0m             \u001b[0;32mdel\u001b[0m \u001b[0mself\u001b[0m\u001b[0;34m.\u001b[0m\u001b[0mpred\u001b[0m\u001b[0;34m[\u001b[0m\u001b[0mv\u001b[0m\u001b[0;34m]\u001b[0m\u001b[0;34m[\u001b[0m\u001b[0mu\u001b[0m\u001b[0;34m]\u001b[0m\u001b[0;34m\u001b[0m\u001b[0m\n\u001b[1;32m    690\u001b[0m         \u001b[0;32mexcept\u001b[0m \u001b[0mKeyError\u001b[0m\u001b[0;34m:\u001b[0m\u001b[0;34m\u001b[0m\u001b[0m\n\u001b[0;32m--> 691\u001b[0;31m             \u001b[0;32mraise\u001b[0m \u001b[0mNetworkXError\u001b[0m\u001b[0;34m(\u001b[0m\u001b[0;34m\"The edge %s-%s not in graph.\"\u001b[0m\u001b[0;34m%\u001b[0m\u001b[0;34m(\u001b[0m\u001b[0mu\u001b[0m\u001b[0;34m,\u001b[0m\u001b[0mv\u001b[0m\u001b[0;34m)\u001b[0m\u001b[0;34m)\u001b[0m\u001b[0;34m\u001b[0m\u001b[0m\n\u001b[0m\u001b[1;32m    692\u001b[0m \u001b[0;34m\u001b[0m\u001b[0m\n\u001b[1;32m    693\u001b[0m \u001b[0;34m\u001b[0m\u001b[0m\n",
        "\u001b[0;31mNetworkXError\u001b[0m: The edge Obesity-HBP not in graph."
       ]
      }
     ],
     "prompt_number": 15
    },
    {
     "cell_type": "code",
     "collapsed": false,
     "input": [
      "heart.add_edge('Obese','HBP')"
     ],
     "language": "python",
     "metadata": {},
     "outputs": [],
     "prompt_number": 17
    },
    {
     "cell_type": "code",
     "collapsed": false,
     "input": [
      "heart.add_edge('Diab','HeartDisease')"
     ],
     "language": "python",
     "metadata": {},
     "outputs": [],
     "prompt_number": 20
    },
    {
     "cell_type": "code",
     "collapsed": false,
     "input": [
      "heart.add_edge('HBC','HeartDisease')"
     ],
     "language": "python",
     "metadata": {},
     "outputs": [],
     "prompt_number": 21
    },
    {
     "cell_type": "code",
     "collapsed": false,
     "input": [
      "heart.add_edge('HBP','HeartDisease')"
     ],
     "language": "python",
     "metadata": {},
     "outputs": [],
     "prompt_number": 22
    },
    {
     "cell_type": "code",
     "collapsed": false,
     "input": [
      "heart.add_edge('Age','HeartDisease')"
     ],
     "language": "python",
     "metadata": {},
     "outputs": [],
     "prompt_number": 23
    },
    {
     "cell_type": "code",
     "collapsed": false,
     "input": [
      "heart.edges()"
     ],
     "language": "python",
     "metadata": {},
     "outputs": [
      {
       "metadata": {},
       "output_type": "pyout",
       "prompt_number": 127,
       "text": [
        "[('Obese', 'HBP'),\n",
        " ('Obese', 'HBC'),\n",
        " ('diaFH', 'Diab'),\n",
        " ('Age', 'HeartDisease'),\n",
        " ('Age', 'HBP'),\n",
        " ('Diab', 'HeartDisease'),\n",
        " ('HBC', 'HeartDisease'),\n",
        " ('obeseFH', 'Obese'),\n",
        " ('diet', 'Obese'),\n",
        " ('diet', 'Diab'),\n",
        " ('Gender', 'HBC'),\n",
        " ('Smoking', 'HBP'),\n",
        " ('phyInact', 'Obese'),\n",
        " ('HBP', 'HeartDisease')]"
       ]
      }
     ],
     "prompt_number": 127
    },
    {
     "cell_type": "code",
     "collapsed": false,
     "input": [
      "heart.add_edge('obeseFH','Obese')"
     ],
     "language": "python",
     "metadata": {},
     "outputs": [],
     "prompt_number": 26
    },
    {
     "cell_type": "code",
     "collapsed": false,
     "input": [
      "from pgmpy.factors import TabularCPD"
     ],
     "language": "python",
     "metadata": {},
     "outputs": [],
     "prompt_number": 29
    },
    {
     "cell_type": "code",
     "collapsed": false,
     "input": [
      "cpd_HBC = TabularCPD('HBC',2,[[0.95,0.90,0.35,0.3],[0.05,0.1,0.65,0.7]],evidence= ['Gender','Obese'],evidence_card=[2,2])"
     ],
     "language": "python",
     "metadata": {},
     "outputs": [],
     "prompt_number": 55
    },
    {
     "cell_type": "code",
     "collapsed": false,
     "input": [],
     "language": "python",
     "metadata": {},
     "outputs": [],
     "prompt_number": 39
    },
    {
     "cell_type": "code",
     "collapsed": false,
     "input": [
      "heart.edges()"
     ],
     "language": "python",
     "metadata": {},
     "outputs": [
      {
       "metadata": {},
       "output_type": "pyout",
       "prompt_number": 46,
       "text": [
        "[('Obese', 'HBP'),\n",
        " ('Obese', 'HBC'),\n",
        " ('diaFH', 'Diab'),\n",
        " ('Age', 'HeartDisease'),\n",
        " ('Age', 'HBP'),\n",
        " ('Diab', 'HeartDisease'),\n",
        " ('HBC', 'HeartDisease'),\n",
        " ('obeseFH', 'Obese'),\n",
        " ('diet', 'Obese'),\n",
        " ('diet', 'Diab'),\n",
        " ('Gender', 'HBC'),\n",
        " ('Smoking', 'HBP'),\n",
        " ('phyInact', 'Obese'),\n",
        " ('HBP', 'HeartDisease')]"
       ]
      }
     ],
     "prompt_number": 46
    },
    {
     "cell_type": "code",
     "collapsed": false,
     "input": [
      "cpd_HD = TabularCPD('HeartDisease',2,[[0.95,0.90,0.88,0.75,0.80,0.70,0.73,0.65,0.80,0.75,0.70,0.63,0.60,0.55,0.45,0.30],[0.05,0.10,0.12,0.25,0.20,0.30,0.27,0.35,0.20,0.25,0.30,0.37,0.40,0.45,0.55,0.70]],evidence =['HBC','HBP','Diab','Age'],evidence_card=[2,2,2,2])"
     ],
     "language": "python",
     "metadata": {},
     "outputs": [],
     "prompt_number": 57
    },
    {
     "cell_type": "code",
     "collapsed": false,
     "input": [
      "from pgmpy.inference import VariableElimination\n"
     ],
     "language": "python",
     "metadata": {},
     "outputs": [],
     "prompt_number": 85
    },
    {
     "cell_type": "code",
     "collapsed": false,
     "input": [
      "HD_inference = VariableElimination(model)"
     ],
     "language": "python",
     "metadata": {},
     "outputs": [
      {
       "ename": "AttributeError",
       "evalue": "'NoneType' object has no attribute 'to_factor'",
       "output_type": "pyerr",
       "traceback": [
        "\u001b[0;31m---------------------------------------------------------------------------\u001b[0m\n\u001b[0;31mAttributeError\u001b[0m                            Traceback (most recent call last)",
        "\u001b[0;32m<ipython-input-97-96e306e6fb57>\u001b[0m in \u001b[0;36m<module>\u001b[0;34m()\u001b[0m\n\u001b[0;32m----> 1\u001b[0;31m \u001b[0mHD_inference\u001b[0m \u001b[0;34m=\u001b[0m \u001b[0mVariableElimination\u001b[0m\u001b[0;34m(\u001b[0m\u001b[0mmodel\u001b[0m\u001b[0;34m)\u001b[0m\u001b[0;34m\u001b[0m\u001b[0m\n\u001b[0m",
        "\u001b[0;32m/usr/local/lib/python2.7/dist-packages/pgmpy-0.1.0-py2.7.egg/pgmpy/inference/base.pyc\u001b[0m in \u001b[0;36m__init__\u001b[0;34m(self, model)\u001b[0m\n\u001b[1;32m     70\u001b[0m             \u001b[0;32mfor\u001b[0m \u001b[0mnode\u001b[0m \u001b[0;32min\u001b[0m \u001b[0mmodel\u001b[0m\u001b[0;34m.\u001b[0m\u001b[0mnodes\u001b[0m\u001b[0;34m(\u001b[0m\u001b[0;34m)\u001b[0m\u001b[0;34m:\u001b[0m\u001b[0;34m\u001b[0m\u001b[0m\n\u001b[1;32m     71\u001b[0m                 \u001b[0mcpd\u001b[0m \u001b[0;34m=\u001b[0m \u001b[0mmodel\u001b[0m\u001b[0;34m.\u001b[0m\u001b[0mget_cpds\u001b[0m\u001b[0;34m(\u001b[0m\u001b[0mnode\u001b[0m\u001b[0;34m)\u001b[0m\u001b[0;34m\u001b[0m\u001b[0m\n\u001b[0;32m---> 72\u001b[0;31m                 \u001b[0mcpd_as_factor\u001b[0m \u001b[0;34m=\u001b[0m \u001b[0mcpd\u001b[0m\u001b[0;34m.\u001b[0m\u001b[0mto_factor\u001b[0m\u001b[0;34m(\u001b[0m\u001b[0;34m)\u001b[0m\u001b[0;34m\u001b[0m\u001b[0m\n\u001b[0m\u001b[1;32m     73\u001b[0m                 \u001b[0mself\u001b[0m\u001b[0;34m.\u001b[0m\u001b[0mcardinality\u001b[0m\u001b[0;34m[\u001b[0m\u001b[0mnode\u001b[0m\u001b[0;34m]\u001b[0m \u001b[0;34m=\u001b[0m \u001b[0mcpd\u001b[0m\u001b[0;34m.\u001b[0m\u001b[0mvariable_card\u001b[0m\u001b[0;34m\u001b[0m\u001b[0m\n\u001b[1;32m     74\u001b[0m \u001b[0;34m\u001b[0m\u001b[0m\n",
        "\u001b[0;31mAttributeError\u001b[0m: 'NoneType' object has no attribute 'to_factor'"
       ]
      }
     ],
     "prompt_number": 97
    },
    {
     "cell_type": "code",
     "collapsed": false,
     "input": [
      "heart.add_cpds(cpd_Age,cpd_Diab,cpd_Gender,cpd_HBC,cpd_HBP,cpd_Obese,cpd_Smoking,cpd_diaFH,cpd_diet,cpd_obeseFH,cpd_phyInact)"
     ],
     "language": "python",
     "metadata": {},
     "outputs": [],
     "prompt_number": 64
    },
    {
     "cell_type": "code",
     "collapsed": false,
     "input": [
      "heart.get_cpds()"
     ],
     "language": "python",
     "metadata": {},
     "outputs": [
      {
       "metadata": {},
       "output_type": "pyout",
       "prompt_number": 128,
       "text": [
        "[<TabularCPD representing P(Age:2) at 0x7f46431ca690>,\n",
        " <TabularCPD representing P(Diab:2 | diaFH:2, diet:2) at 0x7f46431ca510>,\n",
        " <TabularCPD representing P(Gender:2) at 0x7f46431ca110>,\n",
        " <TabularCPD representing P(HBC:2 | Gender:2, Obese:2) at 0x7f46431ca5d0>,\n",
        " <TabularCPD representing P(HBP:2 | Obese:2, Smoking:2, Age:2) at 0x7f46431cabd0>,\n",
        " <TabularCPD representing P(Obese:2 | obeseFH:2, diet:2, phyInact:2) at 0x7f46431ca250>,\n",
        " <TabularCPD representing P(Smoking:2) at 0x7f46431ca290>,\n",
        " <TabularCPD representing P(diaFH:2) at 0x7f46431ca090>,\n",
        " <TabularCPD representing P(diet:2) at 0x7f46431ca1d0>,\n",
        " <TabularCPD representing P(obeseFH:2) at 0x7f46431ca190>,\n",
        " <TabularCPD representing P(phyInact:2) at 0x7f46431ca410>,\n",
        " <TabularCPD representing P(HeartDisease:2 | HBC:2, HBP:2, Diab:2, Age:2) at 0x7f46431f2e50>]"
       ]
      }
     ],
     "prompt_number": 128
    },
    {
     "cell_type": "code",
     "collapsed": false,
     "input": [],
     "language": "python",
     "metadata": {},
     "outputs": [],
     "prompt_number": 96
    },
    {
     "cell_type": "code",
     "collapsed": false,
     "input": [
      "HD_infere = VariableElimination(heart)"
     ],
     "language": "python",
     "metadata": {},
     "outputs": [],
     "prompt_number": 115
    },
    {
     "cell_type": "code",
     "collapsed": false,
     "input": [
      "for node in heart.nodes():\n",
      "    cpd = model.get_cpds(node)\n",
      "    print node\n",
      "    cpd_as_factor = cpd.to_factor()"
     ],
     "language": "python",
     "metadata": {},
     "outputs": [
      {
       "output_type": "stream",
       "stream": "stdout",
       "text": [
        "Obese\n",
        "HeartDisease\n",
        "diaFH\n",
        "Age\n",
        "Diab\n",
        "HBC\n",
        "obeseFH\n",
        "diet\n",
        "Gender\n",
        "Smoking\n",
        "phyInact\n",
        "HBP\n"
       ]
      }
     ],
     "prompt_number": 131
    },
    {
     "cell_type": "code",
     "collapsed": false,
     "input": [
      "HD_infere.map_query(variables='Obese')"
     ],
     "language": "python",
     "metadata": {},
     "outputs": [
      {
       "ename": "KeyError",
       "evalue": "'O'",
       "output_type": "pyerr",
       "traceback": [
        "\u001b[0;31m---------------------------------------------------------------------------\u001b[0m\n\u001b[0;31mKeyError\u001b[0m                                  Traceback (most recent call last)",
        "\u001b[0;32m<ipython-input-133-805347c68207>\u001b[0m in \u001b[0;36m<module>\u001b[0;34m()\u001b[0m\n\u001b[0;32m----> 1\u001b[0;31m \u001b[0mHD_infere\u001b[0m\u001b[0;34m.\u001b[0m\u001b[0mmap_query\u001b[0m\u001b[0;34m(\u001b[0m\u001b[0mvariables\u001b[0m\u001b[0;34m=\u001b[0m\u001b[0;34m'Obese'\u001b[0m\u001b[0;34m)\u001b[0m\u001b[0;34m\u001b[0m\u001b[0m\n\u001b[0m",
        "\u001b[0;32m/usr/local/lib/python2.7/dist-packages/pgmpy-0.1.0-py2.7.egg/pgmpy/inference/ExactInference.pyc\u001b[0m in \u001b[0;36mmap_query\u001b[0;34m(self, variables, evidence, elimination_order)\u001b[0m\n\u001b[1;32m    208\u001b[0m             \u001b[0mreturn_dict\u001b[0m \u001b[0;34m=\u001b[0m \u001b[0;34m{\u001b[0m\u001b[0;34m}\u001b[0m\u001b[0;34m\u001b[0m\u001b[0m\n\u001b[1;32m    209\u001b[0m             \u001b[0;32mfor\u001b[0m \u001b[0mvar\u001b[0m \u001b[0;32min\u001b[0m \u001b[0mvariables\u001b[0m\u001b[0;34m:\u001b[0m\u001b[0;34m\u001b[0m\u001b[0m\n\u001b[0;32m--> 210\u001b[0;31m                 \u001b[0mreturn_dict\u001b[0m\u001b[0;34m[\u001b[0m\u001b[0mvar\u001b[0m\u001b[0;34m]\u001b[0m \u001b[0;34m=\u001b[0m \u001b[0mmap_query_results\u001b[0m\u001b[0;34m[\u001b[0m\u001b[0mvar\u001b[0m\u001b[0;34m]\u001b[0m\u001b[0;34m\u001b[0m\u001b[0m\n\u001b[0m\u001b[1;32m    211\u001b[0m             \u001b[0;32mreturn\u001b[0m \u001b[0mreturn_dict\u001b[0m\u001b[0;34m\u001b[0m\u001b[0m\n\u001b[1;32m    212\u001b[0m \u001b[0;34m\u001b[0m\u001b[0m\n",
        "\u001b[0;31mKeyError\u001b[0m: 'O'"
       ]
      }
     ],
     "prompt_number": 133
    },
    {
     "cell_type": "code",
     "collapsed": false,
     "input": [
      "return_dict[var]"
     ],
     "language": "python",
     "metadata": {},
     "outputs": [
      {
       "ename": "NameError",
       "evalue": "name 'map_query_results' is not defined",
       "output_type": "pyerr",
       "traceback": [
        "\u001b[0;31m---------------------------------------------------------------------------\u001b[0m\n\u001b[0;31mNameError\u001b[0m                                 Traceback (most recent call last)",
        "\u001b[0;32m<ipython-input-134-f2adf997085e>\u001b[0m in \u001b[0;36m<module>\u001b[0;34m()\u001b[0m\n\u001b[0;32m----> 1\u001b[0;31m \u001b[0mreturn_dict\u001b[0m\u001b[0;34m[\u001b[0m\u001b[0mvar\u001b[0m\u001b[0;34m]\u001b[0m \u001b[0;34m=\u001b[0m \u001b[0mmap_query_results\u001b[0m\u001b[0;34m[\u001b[0m\u001b[0mvar\u001b[0m\u001b[0;34m]\u001b[0m\u001b[0;34m\u001b[0m\u001b[0m\n\u001b[0m",
        "\u001b[0;31mNameError\u001b[0m: name 'map_query_results' is not defined"
       ]
      }
     ],
     "prompt_number": 134
    },
    {
     "cell_type": "code",
     "collapsed": false,
     "input": [
      "HD_infere.max_marginal(variables=['HeartDisease'],evidence={'Gender':1,'Smoking':0,'Age':0,'diaFH':0,'obeseFH':0,'phyInact':0})"
     ],
     "language": "python",
     "metadata": {},
     "outputs": [
      {
       "metadata": {},
       "output_type": "pyout",
       "prompt_number": 194,
       "text": [
        "0.79999999999999993"
       ]
      }
     ],
     "prompt_number": 194
    },
    {
     "cell_type": "code",
     "collapsed": false,
     "input": [
      "HD_infere.map_query(variables=['HeartDisease'],evidence={'Gender':1,'Smoking':0,'Age':1,'diaFH':1,'obeseFH':0,'phyInact':1})"
     ],
     "language": "python",
     "metadata": {},
     "outputs": [
      {
       "metadata": {},
       "output_type": "pyout",
       "prompt_number": 166,
       "text": [
        "{'HeartDisease': 0}"
       ]
      }
     ],
     "prompt_number": 166
    },
    {
     "cell_type": "code",
     "collapsed": false,
     "input": [
      "cpd_HD"
     ],
     "language": "python",
     "metadata": {},
     "outputs": [
      {
       "html": [
        "<table><caption>TabularCPD for <b>HeartDisease</b></caption><tr><td><b>Age</b></td><td colspan=8>Age_0</td><td colspan=8>Age_1</td></tr><tr><td><b>Diab</b></td><td colspan=4>Diab_0</td><td colspan=4>Diab_1</td><td colspan=4>Diab_0</td><td colspan=4>Diab_1</td></tr><tr><td><b>HBP</b></td><td colspan=2>HBP_0</td><td colspan=2>HBP_1</td><td colspan=2>HBP_0</td><td colspan=2>HBP_1</td><td colspan=2>HBP_0</td><td colspan=2>HBP_1</td><td colspan=2>HBP_0</td><td colspan=2>HBP_1</td></tr><tr><td><b>HBC</b></td><td colspan=1>HBC_0</td><td colspan=1>HBC_1</td><td colspan=1>HBC_0</td><td colspan=1>HBC_1</td><td colspan=1>HBC_0</td><td colspan=1>HBC_1</td><td colspan=1>HBC_0</td><td colspan=1>HBC_1</td><td colspan=1>HBC_0</td><td colspan=1>HBC_1</td><td colspan=1>HBC_0</td><td colspan=1>HBC_1</td><td colspan=1>HBC_0</td><td colspan=1>HBC_1</td><td colspan=1>HBC_0</td><td colspan=1>HBC_1</td></tr><tr><td><b>HeartDisease_0</b></td><td>0.9500</td><td>0.9000</td><td>0.8800</td><td>0.7500</td><td>0.8000</td><td>0.7000</td><td>0.7300</td><td>0.6500</td><td>0.8000</td><td>0.7500</td><td>0.7000</td><td>0.6300</td><td>0.6000</td><td>0.5500</td><td>0.4500</td><td>0.3000</td></tr><tr><td><b>HeartDisease_1</b></td><td>0.0500</td><td>0.1000</td><td>0.1200</td><td>0.2500</td><td>0.2000</td><td>0.3000</td><td>0.2700</td><td>0.3500</td><td>0.2000</td><td>0.2500</td><td>0.3000</td><td>0.3700</td><td>0.4000</td><td>0.4500</td><td>0.5500</td><td>0.7000</td></tr></table>"
       ],
       "metadata": {},
       "output_type": "pyout",
       "prompt_number": 160,
       "text": [
        "<TabularCPD representing P(HeartDisease:2 | HBC:2, HBP:2, Diab:2, Age:2) at 0x7f46431f2e50>"
       ]
      }
     ],
     "prompt_number": 160
    }
   ],
   "metadata": {}
  }
 ]
}